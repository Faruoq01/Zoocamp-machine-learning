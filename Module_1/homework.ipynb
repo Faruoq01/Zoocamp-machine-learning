{
 "cells": [
  {
   "cell_type": "code",
   "execution_count": 10,
   "id": "0db47871-87b0-4552-9f65-f92c0821383b",
   "metadata": {},
   "outputs": [],
   "source": [
    "# !wget https://raw.githubusercontent.com/alexeygrigorev/datasets/master/car_fuel_efficiency.csv"
   ]
  },
  {
   "cell_type": "code",
   "execution_count": 25,
   "id": "581e5241-07e1-441a-846d-dc28a042282c",
   "metadata": {},
   "outputs": [],
   "source": [
    "import pandas as pd\n",
    "import numpy as np"
   ]
  },
  {
   "cell_type": "code",
   "execution_count": 11,
   "id": "1229ac38-9798-4cc7-86ef-9c4f49977b1c",
   "metadata": {},
   "outputs": [
    {
     "data": {
      "text/plain": [
       "'2.3.3'"
      ]
     },
     "execution_count": 11,
     "metadata": {},
     "output_type": "execute_result"
    }
   ],
   "source": [
    "pd.__version__"
   ]
  },
  {
   "cell_type": "markdown",
   "id": "4d780630-ed56-485a-ac6c-9d4cb9823c9c",
   "metadata": {},
   "source": [
    "# Count records"
   ]
  },
  {
   "cell_type": "code",
   "execution_count": 16,
   "id": "4854fdca-4011-4fb3-a600-29e0a8618855",
   "metadata": {},
   "outputs": [
    {
     "data": {
      "text/html": [
       "<div>\n",
       "<style scoped>\n",
       "    .dataframe tbody tr th:only-of-type {\n",
       "        vertical-align: middle;\n",
       "    }\n",
       "\n",
       "    .dataframe tbody tr th {\n",
       "        vertical-align: top;\n",
       "    }\n",
       "\n",
       "    .dataframe thead th {\n",
       "        text-align: right;\n",
       "    }\n",
       "</style>\n",
       "<table border=\"1\" class=\"dataframe\">\n",
       "  <thead>\n",
       "    <tr style=\"text-align: right;\">\n",
       "      <th></th>\n",
       "      <th>engine_displacement</th>\n",
       "      <th>num_cylinders</th>\n",
       "      <th>horsepower</th>\n",
       "      <th>vehicle_weight</th>\n",
       "      <th>acceleration</th>\n",
       "      <th>model_year</th>\n",
       "      <th>origin</th>\n",
       "      <th>fuel_type</th>\n",
       "      <th>drivetrain</th>\n",
       "      <th>num_doors</th>\n",
       "      <th>fuel_efficiency_mpg</th>\n",
       "    </tr>\n",
       "  </thead>\n",
       "  <tbody>\n",
       "    <tr>\n",
       "      <th>0</th>\n",
       "      <td>170</td>\n",
       "      <td>3.0</td>\n",
       "      <td>159.0</td>\n",
       "      <td>3413.433759</td>\n",
       "      <td>17.7</td>\n",
       "      <td>2003</td>\n",
       "      <td>Europe</td>\n",
       "      <td>Gasoline</td>\n",
       "      <td>All-wheel drive</td>\n",
       "      <td>0.0</td>\n",
       "      <td>13.231729</td>\n",
       "    </tr>\n",
       "    <tr>\n",
       "      <th>1</th>\n",
       "      <td>130</td>\n",
       "      <td>5.0</td>\n",
       "      <td>97.0</td>\n",
       "      <td>3149.664934</td>\n",
       "      <td>17.8</td>\n",
       "      <td>2007</td>\n",
       "      <td>USA</td>\n",
       "      <td>Gasoline</td>\n",
       "      <td>Front-wheel drive</td>\n",
       "      <td>0.0</td>\n",
       "      <td>13.688217</td>\n",
       "    </tr>\n",
       "    <tr>\n",
       "      <th>2</th>\n",
       "      <td>170</td>\n",
       "      <td>NaN</td>\n",
       "      <td>78.0</td>\n",
       "      <td>3079.038997</td>\n",
       "      <td>15.1</td>\n",
       "      <td>2018</td>\n",
       "      <td>Europe</td>\n",
       "      <td>Gasoline</td>\n",
       "      <td>Front-wheel drive</td>\n",
       "      <td>0.0</td>\n",
       "      <td>14.246341</td>\n",
       "    </tr>\n",
       "    <tr>\n",
       "      <th>3</th>\n",
       "      <td>220</td>\n",
       "      <td>4.0</td>\n",
       "      <td>NaN</td>\n",
       "      <td>2542.392402</td>\n",
       "      <td>20.2</td>\n",
       "      <td>2009</td>\n",
       "      <td>USA</td>\n",
       "      <td>Diesel</td>\n",
       "      <td>All-wheel drive</td>\n",
       "      <td>2.0</td>\n",
       "      <td>16.912736</td>\n",
       "    </tr>\n",
       "    <tr>\n",
       "      <th>4</th>\n",
       "      <td>210</td>\n",
       "      <td>1.0</td>\n",
       "      <td>140.0</td>\n",
       "      <td>3460.870990</td>\n",
       "      <td>14.4</td>\n",
       "      <td>2009</td>\n",
       "      <td>Europe</td>\n",
       "      <td>Gasoline</td>\n",
       "      <td>All-wheel drive</td>\n",
       "      <td>2.0</td>\n",
       "      <td>12.488369</td>\n",
       "    </tr>\n",
       "  </tbody>\n",
       "</table>\n",
       "</div>"
      ],
      "text/plain": [
       "   engine_displacement  num_cylinders  horsepower  vehicle_weight  \\\n",
       "0                  170            3.0       159.0     3413.433759   \n",
       "1                  130            5.0        97.0     3149.664934   \n",
       "2                  170            NaN        78.0     3079.038997   \n",
       "3                  220            4.0         NaN     2542.392402   \n",
       "4                  210            1.0       140.0     3460.870990   \n",
       "\n",
       "   acceleration  model_year  origin fuel_type         drivetrain  num_doors  \\\n",
       "0          17.7        2003  Europe  Gasoline    All-wheel drive        0.0   \n",
       "1          17.8        2007     USA  Gasoline  Front-wheel drive        0.0   \n",
       "2          15.1        2018  Europe  Gasoline  Front-wheel drive        0.0   \n",
       "3          20.2        2009     USA    Diesel    All-wheel drive        2.0   \n",
       "4          14.4        2009  Europe  Gasoline    All-wheel drive        2.0   \n",
       "\n",
       "   fuel_efficiency_mpg  \n",
       "0            13.231729  \n",
       "1            13.688217  \n",
       "2            14.246341  \n",
       "3            16.912736  \n",
       "4            12.488369  "
      ]
     },
     "execution_count": 16,
     "metadata": {},
     "output_type": "execute_result"
    }
   ],
   "source": [
    "df = pd.read_csv(\"car_fuel_efficiency.csv\")\n",
    "df.shape\n",
    "df.head()"
   ]
  },
  {
   "cell_type": "markdown",
   "id": "c6f85612-d407-49a6-befe-12c887299ef6",
   "metadata": {},
   "source": [
    "# Count categories"
   ]
  },
  {
   "cell_type": "code",
   "execution_count": 17,
   "id": "6905078c-33a7-453f-89d7-221b9c4c5729",
   "metadata": {},
   "outputs": [
    {
     "name": "stdout",
     "output_type": "stream",
     "text": [
      "fuel_type\n",
      "Gasoline    4898\n",
      "Diesel      4806\n",
      "Name: count, dtype: int64\n"
     ]
    }
   ],
   "source": [
    "fuel_counts = df[\"fuel_type\"].value_counts()\n",
    "print(fuel_counts)"
   ]
  },
  {
   "cell_type": "markdown",
   "id": "db728579-88c6-44a2-810d-ccfbc395c67b",
   "metadata": {},
   "source": [
    "# Missing values"
   ]
  },
  {
   "cell_type": "code",
   "execution_count": 18,
   "id": "0678f7e9-edd9-4070-beda-128a92a2fa64",
   "metadata": {},
   "outputs": [
    {
     "data": {
      "text/plain": [
       "np.True_"
      ]
     },
     "execution_count": 18,
     "metadata": {},
     "output_type": "execute_result"
    }
   ],
   "source": [
    "df.isnull().values.any()\n"
   ]
  },
  {
   "cell_type": "markdown",
   "id": "2f100901-0304-4559-92e1-4deb2dbf009c",
   "metadata": {},
   "source": [
    "# Count Missing Values"
   ]
  },
  {
   "cell_type": "code",
   "execution_count": 19,
   "id": "6c8f08a5-73a3-4258-98ac-a3c0b9e39851",
   "metadata": {},
   "outputs": [
    {
     "data": {
      "text/plain": [
       "engine_displacement      0\n",
       "num_cylinders          482\n",
       "horsepower             708\n",
       "vehicle_weight           0\n",
       "acceleration           930\n",
       "model_year               0\n",
       "origin                   0\n",
       "fuel_type                0\n",
       "drivetrain               0\n",
       "num_doors              502\n",
       "fuel_efficiency_mpg      0\n",
       "dtype: int64"
      ]
     },
     "execution_count": 19,
     "metadata": {},
     "output_type": "execute_result"
    }
   ],
   "source": [
    "df.isnull().sum()"
   ]
  },
  {
   "cell_type": "markdown",
   "id": "e6920139-8c5e-4b08-a633-68189e134d7e",
   "metadata": {},
   "source": [
    "# Maximum Fuel Efficiency"
   ]
  },
  {
   "cell_type": "code",
   "execution_count": 22,
   "id": "3719b11a-4d94-4e99-80e2-a8b9381d90d6",
   "metadata": {},
   "outputs": [
    {
     "data": {
      "text/html": [
       "<div>\n",
       "<style scoped>\n",
       "    .dataframe tbody tr th:only-of-type {\n",
       "        vertical-align: middle;\n",
       "    }\n",
       "\n",
       "    .dataframe tbody tr th {\n",
       "        vertical-align: top;\n",
       "    }\n",
       "\n",
       "    .dataframe thead th {\n",
       "        text-align: right;\n",
       "    }\n",
       "</style>\n",
       "<table border=\"1\" class=\"dataframe\">\n",
       "  <thead>\n",
       "    <tr style=\"text-align: right;\">\n",
       "      <th></th>\n",
       "      <th>engine_displacement</th>\n",
       "      <th>num_cylinders</th>\n",
       "      <th>horsepower</th>\n",
       "      <th>vehicle_weight</th>\n",
       "      <th>acceleration</th>\n",
       "      <th>model_year</th>\n",
       "      <th>num_doors</th>\n",
       "      <th>fuel_efficiency_mpg</th>\n",
       "    </tr>\n",
       "  </thead>\n",
       "  <tbody>\n",
       "    <tr>\n",
       "      <th>count</th>\n",
       "      <td>9704.000000</td>\n",
       "      <td>9222.000000</td>\n",
       "      <td>8996.000000</td>\n",
       "      <td>9704.000000</td>\n",
       "      <td>8774.000000</td>\n",
       "      <td>9704.000000</td>\n",
       "      <td>9202.000000</td>\n",
       "      <td>9704.000000</td>\n",
       "    </tr>\n",
       "    <tr>\n",
       "      <th>mean</th>\n",
       "      <td>199.708368</td>\n",
       "      <td>3.962481</td>\n",
       "      <td>149.657292</td>\n",
       "      <td>3001.280993</td>\n",
       "      <td>15.021928</td>\n",
       "      <td>2011.484027</td>\n",
       "      <td>-0.006412</td>\n",
       "      <td>14.985243</td>\n",
       "    </tr>\n",
       "    <tr>\n",
       "      <th>std</th>\n",
       "      <td>49.455319</td>\n",
       "      <td>1.999323</td>\n",
       "      <td>29.879555</td>\n",
       "      <td>497.894860</td>\n",
       "      <td>2.510339</td>\n",
       "      <td>6.659808</td>\n",
       "      <td>1.048162</td>\n",
       "      <td>2.556468</td>\n",
       "    </tr>\n",
       "    <tr>\n",
       "      <th>min</th>\n",
       "      <td>10.000000</td>\n",
       "      <td>0.000000</td>\n",
       "      <td>37.000000</td>\n",
       "      <td>952.681761</td>\n",
       "      <td>6.000000</td>\n",
       "      <td>2000.000000</td>\n",
       "      <td>-4.000000</td>\n",
       "      <td>6.200971</td>\n",
       "    </tr>\n",
       "    <tr>\n",
       "      <th>25%</th>\n",
       "      <td>170.000000</td>\n",
       "      <td>3.000000</td>\n",
       "      <td>130.000000</td>\n",
       "      <td>2666.248985</td>\n",
       "      <td>13.300000</td>\n",
       "      <td>2006.000000</td>\n",
       "      <td>-1.000000</td>\n",
       "      <td>13.267459</td>\n",
       "    </tr>\n",
       "    <tr>\n",
       "      <th>50%</th>\n",
       "      <td>200.000000</td>\n",
       "      <td>4.000000</td>\n",
       "      <td>149.000000</td>\n",
       "      <td>2993.226296</td>\n",
       "      <td>15.000000</td>\n",
       "      <td>2012.000000</td>\n",
       "      <td>0.000000</td>\n",
       "      <td>15.006037</td>\n",
       "    </tr>\n",
       "    <tr>\n",
       "      <th>75%</th>\n",
       "      <td>230.000000</td>\n",
       "      <td>5.000000</td>\n",
       "      <td>170.000000</td>\n",
       "      <td>3334.957039</td>\n",
       "      <td>16.700000</td>\n",
       "      <td>2017.000000</td>\n",
       "      <td>1.000000</td>\n",
       "      <td>16.707965</td>\n",
       "    </tr>\n",
       "    <tr>\n",
       "      <th>max</th>\n",
       "      <td>380.000000</td>\n",
       "      <td>13.000000</td>\n",
       "      <td>271.000000</td>\n",
       "      <td>4739.077089</td>\n",
       "      <td>24.300000</td>\n",
       "      <td>2023.000000</td>\n",
       "      <td>4.000000</td>\n",
       "      <td>25.967222</td>\n",
       "    </tr>\n",
       "  </tbody>\n",
       "</table>\n",
       "</div>"
      ],
      "text/plain": [
       "       engine_displacement  num_cylinders   horsepower  vehicle_weight  \\\n",
       "count          9704.000000    9222.000000  8996.000000     9704.000000   \n",
       "mean            199.708368       3.962481   149.657292     3001.280993   \n",
       "std              49.455319       1.999323    29.879555      497.894860   \n",
       "min              10.000000       0.000000    37.000000      952.681761   \n",
       "25%             170.000000       3.000000   130.000000     2666.248985   \n",
       "50%             200.000000       4.000000   149.000000     2993.226296   \n",
       "75%             230.000000       5.000000   170.000000     3334.957039   \n",
       "max             380.000000      13.000000   271.000000     4739.077089   \n",
       "\n",
       "       acceleration   model_year    num_doors  fuel_efficiency_mpg  \n",
       "count   8774.000000  9704.000000  9202.000000          9704.000000  \n",
       "mean      15.021928  2011.484027    -0.006412            14.985243  \n",
       "std        2.510339     6.659808     1.048162             2.556468  \n",
       "min        6.000000  2000.000000    -4.000000             6.200971  \n",
       "25%       13.300000  2006.000000    -1.000000            13.267459  \n",
       "50%       15.000000  2012.000000     0.000000            15.006037  \n",
       "75%       16.700000  2017.000000     1.000000            16.707965  \n",
       "max       24.300000  2023.000000     4.000000            25.967222  "
      ]
     },
     "execution_count": 22,
     "metadata": {},
     "output_type": "execute_result"
    }
   ],
   "source": [
    "df.describe()"
   ]
  },
  {
   "cell_type": "markdown",
   "id": "e4dddfc3-0d69-453e-b2c7-28059229703a",
   "metadata": {},
   "source": [
    "# Median "
   ]
  },
  {
   "cell_type": "code",
   "execution_count": 28,
   "id": "dead7b74-ccc2-476a-9117-ef1495655e57",
   "metadata": {},
   "outputs": [
    {
     "data": {
      "text/plain": [
       "np.float64(152.0)"
      ]
     },
     "execution_count": 28,
     "metadata": {},
     "output_type": "execute_result"
    }
   ],
   "source": [
    "median_before = df['horsepower'].median()\n",
    "most_frequent = df['horsepower'].mode()[0]\n",
    "df['horsepower_filled'] = df['horsepower'].fillna(most_frequent)\n",
    "median_after = df['horsepower_filled'].median()\n",
    "median_after"
   ]
  },
  {
   "cell_type": "markdown",
   "id": "08cc8915-e69d-4cf3-a0e2-de1d79d2fddd",
   "metadata": {},
   "source": [
    "# Sum of weights"
   ]
  },
  {
   "cell_type": "code",
   "execution_count": 29,
   "id": "61dd81d2-75f3-41c7-a594-f76fe4235418",
   "metadata": {},
   "outputs": [
    {
     "name": "stdout",
     "output_type": "stream",
     "text": [
      "w: [0.01386421 0.5049067 ]\n",
      "sum(w): 0.5187709081074006\n"
     ]
    }
   ],
   "source": [
    "# 1) select all cars from Asia\n",
    "asia = df[df['origin'] == 'Asia']   # or 'Asia' / 'Asia' depending on your label\n",
    "\n",
    "# 2) select only vehicle_weight and model_year\n",
    "X_df = asia[['vehicle_weight', 'model_year']]\n",
    "\n",
    "# 3) select first 7 values\n",
    "X_df = X_df.iloc[:7]\n",
    "\n",
    "# 4) underlying numpy array\n",
    "X = X_df.to_numpy()   # shape (7, 2)\n",
    "\n",
    "# 5) XTX = X.T @ X\n",
    "XTX = X.T.dot(X)\n",
    "\n",
    "# 6) invert XTX\n",
    "XTX_inv = np.linalg.inv(XTX)\n",
    "\n",
    "# 7) create y\n",
    "y = np.array([1100, 1300, 800, 900, 1000, 1100, 1200])\n",
    "\n",
    "# 8) compute w = XTX_inv @ X.T @ y\n",
    "w = XTX_inv.dot(X.T).dot(y)\n",
    "\n",
    "# 9) sum of all elements in w\n",
    "result = w.sum()\n",
    "print(\"w:\", w)\n",
    "print(\"sum(w):\", result)"
   ]
  },
  {
   "cell_type": "code",
   "execution_count": null,
   "id": "43e080cc-7521-46f1-bbcc-ffb6b8798aa9",
   "metadata": {},
   "outputs": [],
   "source": []
  }
 ],
 "metadata": {
  "kernelspec": {
   "display_name": "Python (.zoomcamp)",
   "language": "python",
   "name": ".zoomcamp"
  },
  "language_info": {
   "codemirror_mode": {
    "name": "ipython",
    "version": 3
   },
   "file_extension": ".py",
   "mimetype": "text/x-python",
   "name": "python",
   "nbconvert_exporter": "python",
   "pygments_lexer": "ipython3",
   "version": "3.11.7"
  }
 },
 "nbformat": 4,
 "nbformat_minor": 5
}
